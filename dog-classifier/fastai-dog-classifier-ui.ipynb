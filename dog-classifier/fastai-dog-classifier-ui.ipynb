{
 "cells": [
  {
   "cell_type": "code",
   "execution_count": 1,
   "id": "3a59e5ca",
   "metadata": {
    "ExecuteTime": {
     "end_time": "2022-03-28T06:05:05.274364Z",
     "start_time": "2022-03-28T06:05:01.902955Z"
    }
   },
   "outputs": [
    {
     "name": "stderr",
     "output_type": "stream",
     "text": [
      "E:\\anaconda3\\lib\\site-packages\\fastbook\\__init__.py:19: UserWarning: Missing `graphviz` - please run `conda install fastbook`\n",
      "  except ModuleNotFoundError: warn(\"Missing `graphviz` - please run `conda install fastbook`\")\n"
     ]
    }
   ],
   "source": [
    "import fastbook\n",
    "fastbook.setup_book()\n",
    "from fastbook import *\n",
    "from fastai.vision.widgets import *"
   ]
  },
  {
   "cell_type": "code",
   "execution_count": 11,
   "id": "28bfeecf",
   "metadata": {
    "ExecuteTime": {
     "end_time": "2022-03-28T06:13:18.054237Z",
     "start_time": "2022-03-28T06:13:17.994634Z"
    }
   },
   "outputs": [],
   "source": [
    "learn_inf = load_learner('export.pkl')"
   ]
  },
  {
   "cell_type": "code",
   "execution_count": 12,
   "id": "8e91cdb1",
   "metadata": {
    "ExecuteTime": {
     "end_time": "2022-03-28T06:13:19.084069Z",
     "start_time": "2022-03-28T06:13:19.054690Z"
    }
   },
   "outputs": [],
   "source": [
    "btn_upload = widgets.FileUpload()"
   ]
  },
  {
   "cell_type": "code",
   "execution_count": 13,
   "id": "2794ff85",
   "metadata": {
    "ExecuteTime": {
     "end_time": "2022-03-28T06:13:19.443983Z",
     "start_time": "2022-03-28T06:13:19.425782Z"
    }
   },
   "outputs": [],
   "source": [
    "out_pl = widgets.Output()"
   ]
  },
  {
   "cell_type": "code",
   "execution_count": 14,
   "id": "7e7b2909",
   "metadata": {
    "ExecuteTime": {
     "end_time": "2022-03-28T06:13:19.723512Z",
     "start_time": "2022-03-28T06:13:19.708514Z"
    }
   },
   "outputs": [],
   "source": [
    "lbl_pred = widgets.Label()"
   ]
  },
  {
   "cell_type": "code",
   "execution_count": 15,
   "id": "98cd9a6a",
   "metadata": {
    "ExecuteTime": {
     "end_time": "2022-03-28T06:13:19.990394Z",
     "start_time": "2022-03-28T06:13:19.973373Z"
    }
   },
   "outputs": [],
   "source": [
    "btn_run = widgets.Button(description='Classify')"
   ]
  },
  {
   "cell_type": "code",
   "execution_count": 16,
   "id": "2df4f7a3",
   "metadata": {
    "ExecuteTime": {
     "end_time": "2022-03-28T06:13:20.316640Z",
     "start_time": "2022-03-28T06:13:20.304682Z"
    }
   },
   "outputs": [],
   "source": [
    "def on_click_classify(change):\n",
    "    img = PILImage.create(btn_upload.data[-1])\n",
    "    out_pl.clear_output()\n",
    "    with out_pl: display(img.to_thumb(128,128))\n",
    "    pred,pred_idx,probs = learn_inf.predict(img)\n",
    "    lbl_pred.value = f'Prediction: {pred}; Probability: {probs[pred_idx]:.04f}'\n",
    "btn_run.on_click(on_click_classify)"
   ]
  },
  {
   "cell_type": "code",
   "execution_count": 17,
   "id": "a1343cd1",
   "metadata": {
    "ExecuteTime": {
     "end_time": "2022-03-28T06:13:20.647908Z",
     "start_time": "2022-03-28T06:13:20.624916Z"
    }
   },
   "outputs": [
    {
     "data": {
      "application/vnd.jupyter.widget-view+json": {
       "model_id": "e24c160eb61843a78f409b30c3ca70ec",
       "version_major": 2,
       "version_minor": 0
      },
      "text/plain": [
       "VBox(children=(Label(value='Select your dog!'), FileUpload(value={}, description='Upload'), Button(description…"
      ]
     },
     "metadata": {},
     "output_type": "display_data"
    }
   ],
   "source": [
    "VBox([widgets.Label('Select your dog!'), \n",
    "      btn_upload, btn_run, out_pl, lbl_pred])"
   ]
  },
  {
   "cell_type": "code",
   "execution_count": null,
   "id": "e17aadac",
   "metadata": {},
   "outputs": [],
   "source": []
  }
 ],
 "metadata": {
  "kernelspec": {
   "display_name": "Python 3 (ipykernel)",
   "language": "python",
   "name": "python3"
  },
  "language_info": {
   "codemirror_mode": {
    "name": "ipython",
    "version": 3
   },
   "file_extension": ".py",
   "mimetype": "text/x-python",
   "name": "python",
   "nbconvert_exporter": "python",
   "pygments_lexer": "ipython3",
   "version": "3.9.7"
  }
 },
 "nbformat": 4,
 "nbformat_minor": 5
}
