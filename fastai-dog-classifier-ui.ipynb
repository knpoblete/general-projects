{
 "cells": [
  {
   "cell_type": "code",
   "execution_count": 1,
   "id": "3a59e5ca",
   "metadata": {
    "ExecuteTime": {
     "end_time": "2022-03-27T18:35:43.361703Z",
     "start_time": "2022-03-27T18:35:39.760945Z"
    }
   },
   "outputs": [
    {
     "name": "stderr",
     "output_type": "stream",
     "text": [
      "E:\\anaconda3\\lib\\site-packages\\fastbook\\__init__.py:19: UserWarning: Missing `graphviz` - please run `conda install fastbook`\n",
      "  except ModuleNotFoundError: warn(\"Missing `graphviz` - please run `conda install fastbook`\")\n"
     ]
    }
   ],
   "source": [
    "import fastbook\n",
    "fastbook.setup_book()\n",
    "from fastbook import *\n",
    "from fastai.vision.widgets import *"
   ]
  },
  {
   "cell_type": "code",
   "execution_count": 2,
   "id": "28bfeecf",
   "metadata": {
    "ExecuteTime": {
     "end_time": "2022-03-27T18:35:43.408347Z",
     "start_time": "2022-03-27T18:35:43.362815Z"
    }
   },
   "outputs": [],
   "source": [
    "learn_inf = load_learner('export.pkl')"
   ]
  },
  {
   "cell_type": "code",
   "execution_count": 3,
   "id": "8e91cdb1",
   "metadata": {
    "ExecuteTime": {
     "end_time": "2022-03-27T18:35:43.424243Z",
     "start_time": "2022-03-27T18:35:43.410242Z"
    }
   },
   "outputs": [],
   "source": [
    "btn_upload = widgets.FileUpload()"
   ]
  },
  {
   "cell_type": "code",
   "execution_count": 4,
   "id": "2794ff85",
   "metadata": {
    "ExecuteTime": {
     "end_time": "2022-03-27T18:35:43.440352Z",
     "start_time": "2022-03-27T18:35:43.426243Z"
    }
   },
   "outputs": [],
   "source": [
    "out_pl = widgets.Output()"
   ]
  },
  {
   "cell_type": "code",
   "execution_count": 5,
   "id": "7e7b2909",
   "metadata": {
    "ExecuteTime": {
     "end_time": "2022-03-27T18:35:43.456244Z",
     "start_time": "2022-03-27T18:35:43.441242Z"
    }
   },
   "outputs": [],
   "source": [
    "lbl_pred = widgets.Label()"
   ]
  },
  {
   "cell_type": "code",
   "execution_count": 6,
   "id": "98cd9a6a",
   "metadata": {
    "ExecuteTime": {
     "end_time": "2022-03-27T18:35:43.488245Z",
     "start_time": "2022-03-27T18:35:43.458242Z"
    }
   },
   "outputs": [],
   "source": [
    "#hide_output\n",
    "btn_run = widgets.Button(description='Classify')"
   ]
  },
  {
   "cell_type": "code",
   "execution_count": 7,
   "id": "2df4f7a3",
   "metadata": {
    "ExecuteTime": {
     "end_time": "2022-03-27T18:35:43.504242Z",
     "start_time": "2022-03-27T18:35:43.492246Z"
    }
   },
   "outputs": [],
   "source": [
    "def on_click_classify(change):\n",
    "    img = PILImage.create(btn_upload.data[-1])\n",
    "    out_pl.clear_output()\n",
    "    with out_pl: display(img.to_thumb(128,128))\n",
    "    pred,pred_idx,probs = learn_inf.predict(img)\n",
    "    lbl_pred.value = f'Prediction: {pred}; Probability: {probs[pred_idx]:.04f}'\n",
    "\n",
    "btn_run.on_click(on_click_classify)"
   ]
  },
  {
   "cell_type": "code",
   "execution_count": 8,
   "id": "a1343cd1",
   "metadata": {
    "ExecuteTime": {
     "end_time": "2022-03-27T18:35:43.536258Z",
     "start_time": "2022-03-27T18:35:43.506243Z"
    }
   },
   "outputs": [
    {
     "data": {
      "application/vnd.jupyter.widget-view+json": {
       "model_id": "18a6b42e264748c2b9ce66edd77a371c",
       "version_major": 2,
       "version_minor": 0
      },
      "text/plain": [
       "VBox(children=(Label(value='Select your dog!'), FileUpload(value={}, description='Upload'), Button(description…"
      ]
     },
     "metadata": {},
     "output_type": "display_data"
    }
   ],
   "source": [
    "#hide_output\n",
    "\n",
    "from fastai.vision.widgets import *\n",
    "\n",
    "VBox([widgets.Label('Select your dog!'), \n",
    "      btn_upload, btn_run, out_pl, lbl_pred])"
   ]
  }
 ],
 "metadata": {
  "kernelspec": {
   "display_name": "Python 3 (ipykernel)",
   "language": "python",
   "name": "python3"
  },
  "language_info": {
   "codemirror_mode": {
    "name": "ipython",
    "version": 3
   },
   "file_extension": ".py",
   "mimetype": "text/x-python",
   "name": "python",
   "nbconvert_exporter": "python",
   "pygments_lexer": "ipython3",
   "version": "3.9.7"
  }
 },
 "nbformat": 4,
 "nbformat_minor": 5
}
