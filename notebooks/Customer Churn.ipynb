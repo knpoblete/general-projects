{
 "cells": [
  {
   "cell_type": "code",
   "execution_count": 1,
   "id": "8a9d0b5f",
   "metadata": {
    "ExecuteTime": {
     "end_time": "2022-02-16T14:45:22.466246Z",
     "start_time": "2022-02-16T14:45:20.946314Z"
    }
   },
   "outputs": [],
   "source": [
    "import pandas as pd\n",
    "import numpy as np\n",
    "import matplotlib.pyplot as plt\n",
    "from matplotlib import rcParams\n",
    "import seaborn as sns\n",
    "from sklearn.preprocessing import MinMaxScaler, OneHotEncoder\n",
    "from imblearn.over_sampling import RandomOverSampler, SMOTE\n",
    "from imblearn.combine import SMOTEENN, SMOTETomek\n",
    "from sklearn.model_selection import train_test_split, cross_val_score\n",
    "from sklearn.ensemble import GradientBoostingClassifier, RandomForestClassifier\n",
    "from sklearn.linear_model import LogisticRegression, SGDClassifier\n",
    "from sklearn.naive_bayes import MultinomialNB\n",
    "from sklearn.svm import LinearSVC\n",
    "from xgboost.sklearn import XGBClassifier\n",
    "from sklearn.metrics import accuracy_score, classification_report, confusion_matrix, f1_score, precision_score, recall_score\n",
    "\n",
    "plt.style.use('seaborn-colorblind')"
   ]
  },
  {
   "cell_type": "markdown",
   "id": "5c1875c9",
   "metadata": {},
   "source": [
    "# Data pre-processing\n",
    "\n",
    "source: https://www.kaggle.com/shrutimechlearn/churn-modelling"
   ]
  },
  {
   "cell_type": "code",
   "execution_count": 2,
   "id": "28f01b94",
   "metadata": {
    "ExecuteTime": {
     "end_time": "2022-02-16T14:45:22.481190Z",
     "start_time": "2022-02-16T14:45:22.466246Z"
    }
   },
   "outputs": [],
   "source": [
    "filepath = '/Downloads/datasets/Churn_Modelling.csv'"
   ]
  },
  {
   "cell_type": "code",
   "execution_count": 3,
   "id": "a4ce1289",
   "metadata": {
    "ExecuteTime": {
     "end_time": "2022-02-16T14:45:22.527539Z",
     "start_time": "2022-02-16T14:45:22.486184Z"
    }
   },
   "outputs": [
    {
     "data": {
      "text/html": [
       "<div>\n",
       "<style scoped>\n",
       "    .dataframe tbody tr th:only-of-type {\n",
       "        vertical-align: middle;\n",
       "    }\n",
       "\n",
       "    .dataframe tbody tr th {\n",
       "        vertical-align: top;\n",
       "    }\n",
       "\n",
       "    .dataframe thead th {\n",
       "        text-align: right;\n",
       "    }\n",
       "</style>\n",
       "<table border=\"1\" class=\"dataframe\">\n",
       "  <thead>\n",
       "    <tr style=\"text-align: right;\">\n",
       "      <th></th>\n",
       "      <th>RowNumber</th>\n",
       "      <th>CustomerId</th>\n",
       "      <th>Surname</th>\n",
       "      <th>CreditScore</th>\n",
       "      <th>Geography</th>\n",
       "      <th>Gender</th>\n",
       "      <th>Age</th>\n",
       "      <th>Tenure</th>\n",
       "      <th>Balance</th>\n",
       "      <th>NumOfProducts</th>\n",
       "      <th>HasCrCard</th>\n",
       "      <th>IsActiveMember</th>\n",
       "      <th>EstimatedSalary</th>\n",
       "      <th>Exited</th>\n",
       "    </tr>\n",
       "  </thead>\n",
       "  <tbody>\n",
       "    <tr>\n",
       "      <th>0</th>\n",
       "      <td>1</td>\n",
       "      <td>15634602</td>\n",
       "      <td>Hargrave</td>\n",
       "      <td>619</td>\n",
       "      <td>France</td>\n",
       "      <td>Female</td>\n",
       "      <td>42</td>\n",
       "      <td>2</td>\n",
       "      <td>0.00</td>\n",
       "      <td>1</td>\n",
       "      <td>1</td>\n",
       "      <td>1</td>\n",
       "      <td>101348.88</td>\n",
       "      <td>1</td>\n",
       "    </tr>\n",
       "    <tr>\n",
       "      <th>1</th>\n",
       "      <td>2</td>\n",
       "      <td>15647311</td>\n",
       "      <td>Hill</td>\n",
       "      <td>608</td>\n",
       "      <td>Spain</td>\n",
       "      <td>Female</td>\n",
       "      <td>41</td>\n",
       "      <td>1</td>\n",
       "      <td>83807.86</td>\n",
       "      <td>1</td>\n",
       "      <td>0</td>\n",
       "      <td>1</td>\n",
       "      <td>112542.58</td>\n",
       "      <td>0</td>\n",
       "    </tr>\n",
       "    <tr>\n",
       "      <th>2</th>\n",
       "      <td>3</td>\n",
       "      <td>15619304</td>\n",
       "      <td>Onio</td>\n",
       "      <td>502</td>\n",
       "      <td>France</td>\n",
       "      <td>Female</td>\n",
       "      <td>42</td>\n",
       "      <td>8</td>\n",
       "      <td>159660.80</td>\n",
       "      <td>3</td>\n",
       "      <td>1</td>\n",
       "      <td>0</td>\n",
       "      <td>113931.57</td>\n",
       "      <td>1</td>\n",
       "    </tr>\n",
       "    <tr>\n",
       "      <th>3</th>\n",
       "      <td>4</td>\n",
       "      <td>15701354</td>\n",
       "      <td>Boni</td>\n",
       "      <td>699</td>\n",
       "      <td>France</td>\n",
       "      <td>Female</td>\n",
       "      <td>39</td>\n",
       "      <td>1</td>\n",
       "      <td>0.00</td>\n",
       "      <td>2</td>\n",
       "      <td>0</td>\n",
       "      <td>0</td>\n",
       "      <td>93826.63</td>\n",
       "      <td>0</td>\n",
       "    </tr>\n",
       "    <tr>\n",
       "      <th>4</th>\n",
       "      <td>5</td>\n",
       "      <td>15737888</td>\n",
       "      <td>Mitchell</td>\n",
       "      <td>850</td>\n",
       "      <td>Spain</td>\n",
       "      <td>Female</td>\n",
       "      <td>43</td>\n",
       "      <td>2</td>\n",
       "      <td>125510.82</td>\n",
       "      <td>1</td>\n",
       "      <td>1</td>\n",
       "      <td>1</td>\n",
       "      <td>79084.10</td>\n",
       "      <td>0</td>\n",
       "    </tr>\n",
       "  </tbody>\n",
       "</table>\n",
       "</div>"
      ],
      "text/plain": [
       "   RowNumber  CustomerId   Surname  CreditScore Geography  Gender  Age  \\\n",
       "0          1    15634602  Hargrave          619    France  Female   42   \n",
       "1          2    15647311      Hill          608     Spain  Female   41   \n",
       "2          3    15619304      Onio          502    France  Female   42   \n",
       "3          4    15701354      Boni          699    France  Female   39   \n",
       "4          5    15737888  Mitchell          850     Spain  Female   43   \n",
       "\n",
       "   Tenure    Balance  NumOfProducts  HasCrCard  IsActiveMember  \\\n",
       "0       2       0.00              1          1               1   \n",
       "1       1   83807.86              1          0               1   \n",
       "2       8  159660.80              3          1               0   \n",
       "3       1       0.00              2          0               0   \n",
       "4       2  125510.82              1          1               1   \n",
       "\n",
       "   EstimatedSalary  Exited  \n",
       "0        101348.88       1  \n",
       "1        112542.58       0  \n",
       "2        113931.57       1  \n",
       "3         93826.63       0  \n",
       "4         79084.10       0  "
      ]
     },
     "execution_count": 3,
     "metadata": {},
     "output_type": "execute_result"
    }
   ],
   "source": [
    "df = pd.read_csv(filepath)\n",
    "df.head()"
   ]
  },
  {
   "cell_type": "code",
   "execution_count": 4,
   "id": "f2a30d4c",
   "metadata": {
    "ExecuteTime": {
     "end_time": "2022-02-16T14:45:22.543413Z",
     "start_time": "2022-02-16T14:45:22.529424Z"
    },
    "scrolled": false
   },
   "outputs": [
    {
     "data": {
      "text/plain": [
       "(10000, 14)"
      ]
     },
     "execution_count": 4,
     "metadata": {},
     "output_type": "execute_result"
    }
   ],
   "source": [
    "df.shape"
   ]
  },
  {
   "cell_type": "code",
   "execution_count": 5,
   "id": "039aabab",
   "metadata": {
    "ExecuteTime": {
     "end_time": "2022-02-16T14:45:22.559529Z",
     "start_time": "2022-02-16T14:45:22.545420Z"
    },
    "scrolled": true
   },
   "outputs": [
    {
     "data": {
      "text/plain": [
       "RowNumber          0\n",
       "CustomerId         0\n",
       "Surname            0\n",
       "CreditScore        0\n",
       "Geography          0\n",
       "Gender             0\n",
       "Age                0\n",
       "Tenure             0\n",
       "Balance            0\n",
       "NumOfProducts      0\n",
       "HasCrCard          0\n",
       "IsActiveMember     0\n",
       "EstimatedSalary    0\n",
       "Exited             0\n",
       "dtype: int64"
      ]
     },
     "execution_count": 5,
     "metadata": {},
     "output_type": "execute_result"
    }
   ],
   "source": [
    "df.isnull().sum()"
   ]
  },
  {
   "cell_type": "code",
   "execution_count": 6,
   "id": "a23a9345",
   "metadata": {
    "ExecuteTime": {
     "end_time": "2022-02-16T14:45:22.607676Z",
     "start_time": "2022-02-16T14:45:22.561527Z"
    }
   },
   "outputs": [
    {
     "data": {
      "text/html": [
       "<div>\n",
       "<style scoped>\n",
       "    .dataframe tbody tr th:only-of-type {\n",
       "        vertical-align: middle;\n",
       "    }\n",
       "\n",
       "    .dataframe tbody tr th {\n",
       "        vertical-align: top;\n",
       "    }\n",
       "\n",
       "    .dataframe thead th {\n",
       "        text-align: right;\n",
       "    }\n",
       "</style>\n",
       "<table border=\"1\" class=\"dataframe\">\n",
       "  <thead>\n",
       "    <tr style=\"text-align: right;\">\n",
       "      <th></th>\n",
       "      <th>RowNumber</th>\n",
       "      <th>CustomerId</th>\n",
       "      <th>CreditScore</th>\n",
       "      <th>Age</th>\n",
       "      <th>Tenure</th>\n",
       "      <th>Balance</th>\n",
       "      <th>NumOfProducts</th>\n",
       "      <th>HasCrCard</th>\n",
       "      <th>IsActiveMember</th>\n",
       "      <th>EstimatedSalary</th>\n",
       "      <th>Exited</th>\n",
       "    </tr>\n",
       "  </thead>\n",
       "  <tbody>\n",
       "    <tr>\n",
       "      <th>count</th>\n",
       "      <td>10000.00000</td>\n",
       "      <td>1.000000e+04</td>\n",
       "      <td>10000.000000</td>\n",
       "      <td>10000.000000</td>\n",
       "      <td>10000.000000</td>\n",
       "      <td>10000.000000</td>\n",
       "      <td>10000.000000</td>\n",
       "      <td>10000.00000</td>\n",
       "      <td>10000.000000</td>\n",
       "      <td>10000.000000</td>\n",
       "      <td>10000.000000</td>\n",
       "    </tr>\n",
       "    <tr>\n",
       "      <th>mean</th>\n",
       "      <td>5000.50000</td>\n",
       "      <td>1.569094e+07</td>\n",
       "      <td>650.528800</td>\n",
       "      <td>38.921800</td>\n",
       "      <td>5.012800</td>\n",
       "      <td>76485.889288</td>\n",
       "      <td>1.530200</td>\n",
       "      <td>0.70550</td>\n",
       "      <td>0.515100</td>\n",
       "      <td>100090.239881</td>\n",
       "      <td>0.203700</td>\n",
       "    </tr>\n",
       "    <tr>\n",
       "      <th>std</th>\n",
       "      <td>2886.89568</td>\n",
       "      <td>7.193619e+04</td>\n",
       "      <td>96.653299</td>\n",
       "      <td>10.487806</td>\n",
       "      <td>2.892174</td>\n",
       "      <td>62397.405202</td>\n",
       "      <td>0.581654</td>\n",
       "      <td>0.45584</td>\n",
       "      <td>0.499797</td>\n",
       "      <td>57510.492818</td>\n",
       "      <td>0.402769</td>\n",
       "    </tr>\n",
       "    <tr>\n",
       "      <th>min</th>\n",
       "      <td>1.00000</td>\n",
       "      <td>1.556570e+07</td>\n",
       "      <td>350.000000</td>\n",
       "      <td>18.000000</td>\n",
       "      <td>0.000000</td>\n",
       "      <td>0.000000</td>\n",
       "      <td>1.000000</td>\n",
       "      <td>0.00000</td>\n",
       "      <td>0.000000</td>\n",
       "      <td>11.580000</td>\n",
       "      <td>0.000000</td>\n",
       "    </tr>\n",
       "    <tr>\n",
       "      <th>25%</th>\n",
       "      <td>2500.75000</td>\n",
       "      <td>1.562853e+07</td>\n",
       "      <td>584.000000</td>\n",
       "      <td>32.000000</td>\n",
       "      <td>3.000000</td>\n",
       "      <td>0.000000</td>\n",
       "      <td>1.000000</td>\n",
       "      <td>0.00000</td>\n",
       "      <td>0.000000</td>\n",
       "      <td>51002.110000</td>\n",
       "      <td>0.000000</td>\n",
       "    </tr>\n",
       "    <tr>\n",
       "      <th>50%</th>\n",
       "      <td>5000.50000</td>\n",
       "      <td>1.569074e+07</td>\n",
       "      <td>652.000000</td>\n",
       "      <td>37.000000</td>\n",
       "      <td>5.000000</td>\n",
       "      <td>97198.540000</td>\n",
       "      <td>1.000000</td>\n",
       "      <td>1.00000</td>\n",
       "      <td>1.000000</td>\n",
       "      <td>100193.915000</td>\n",
       "      <td>0.000000</td>\n",
       "    </tr>\n",
       "    <tr>\n",
       "      <th>75%</th>\n",
       "      <td>7500.25000</td>\n",
       "      <td>1.575323e+07</td>\n",
       "      <td>718.000000</td>\n",
       "      <td>44.000000</td>\n",
       "      <td>7.000000</td>\n",
       "      <td>127644.240000</td>\n",
       "      <td>2.000000</td>\n",
       "      <td>1.00000</td>\n",
       "      <td>1.000000</td>\n",
       "      <td>149388.247500</td>\n",
       "      <td>0.000000</td>\n",
       "    </tr>\n",
       "    <tr>\n",
       "      <th>max</th>\n",
       "      <td>10000.00000</td>\n",
       "      <td>1.581569e+07</td>\n",
       "      <td>850.000000</td>\n",
       "      <td>92.000000</td>\n",
       "      <td>10.000000</td>\n",
       "      <td>250898.090000</td>\n",
       "      <td>4.000000</td>\n",
       "      <td>1.00000</td>\n",
       "      <td>1.000000</td>\n",
       "      <td>199992.480000</td>\n",
       "      <td>1.000000</td>\n",
       "    </tr>\n",
       "  </tbody>\n",
       "</table>\n",
       "</div>"
      ],
      "text/plain": [
       "         RowNumber    CustomerId   CreditScore           Age        Tenure  \\\n",
       "count  10000.00000  1.000000e+04  10000.000000  10000.000000  10000.000000   \n",
       "mean    5000.50000  1.569094e+07    650.528800     38.921800      5.012800   \n",
       "std     2886.89568  7.193619e+04     96.653299     10.487806      2.892174   \n",
       "min        1.00000  1.556570e+07    350.000000     18.000000      0.000000   \n",
       "25%     2500.75000  1.562853e+07    584.000000     32.000000      3.000000   \n",
       "50%     5000.50000  1.569074e+07    652.000000     37.000000      5.000000   \n",
       "75%     7500.25000  1.575323e+07    718.000000     44.000000      7.000000   \n",
       "max    10000.00000  1.581569e+07    850.000000     92.000000     10.000000   \n",
       "\n",
       "             Balance  NumOfProducts    HasCrCard  IsActiveMember  \\\n",
       "count   10000.000000   10000.000000  10000.00000    10000.000000   \n",
       "mean    76485.889288       1.530200      0.70550        0.515100   \n",
       "std     62397.405202       0.581654      0.45584        0.499797   \n",
       "min         0.000000       1.000000      0.00000        0.000000   \n",
       "25%         0.000000       1.000000      0.00000        0.000000   \n",
       "50%     97198.540000       1.000000      1.00000        1.000000   \n",
       "75%    127644.240000       2.000000      1.00000        1.000000   \n",
       "max    250898.090000       4.000000      1.00000        1.000000   \n",
       "\n",
       "       EstimatedSalary        Exited  \n",
       "count     10000.000000  10000.000000  \n",
       "mean     100090.239881      0.203700  \n",
       "std       57510.492818      0.402769  \n",
       "min          11.580000      0.000000  \n",
       "25%       51002.110000      0.000000  \n",
       "50%      100193.915000      0.000000  \n",
       "75%      149388.247500      0.000000  \n",
       "max      199992.480000      1.000000  "
      ]
     },
     "execution_count": 6,
     "metadata": {},
     "output_type": "execute_result"
    }
   ],
   "source": [
    "df.describe()"
   ]
  },
  {
   "cell_type": "code",
   "execution_count": 7,
   "id": "c53b87d8",
   "metadata": {
    "ExecuteTime": {
     "end_time": "2022-02-16T14:45:22.622711Z",
     "start_time": "2022-02-16T14:45:22.610302Z"
    }
   },
   "outputs": [],
   "source": [
    "df['IsActiveMember'] = df['IsActiveMember'].astype('object')\n",
    "df['HasCrCard'] = df['HasCrCard'].astype('object')"
   ]
  },
  {
   "cell_type": "code",
   "execution_count": 8,
   "id": "4cea6e22",
   "metadata": {
    "ExecuteTime": {
     "end_time": "2022-02-16T14:45:22.638715Z",
     "start_time": "2022-02-16T14:45:22.624713Z"
    },
    "scrolled": true
   },
   "outputs": [
    {
     "data": {
      "text/plain": [
       "RowNumber            int64\n",
       "CustomerId           int64\n",
       "Surname             object\n",
       "CreditScore          int64\n",
       "Geography           object\n",
       "Gender              object\n",
       "Age                  int64\n",
       "Tenure               int64\n",
       "Balance            float64\n",
       "NumOfProducts        int64\n",
       "HasCrCard           object\n",
       "IsActiveMember      object\n",
       "EstimatedSalary    float64\n",
       "Exited               int64\n",
       "dtype: object"
      ]
     },
     "execution_count": 8,
     "metadata": {},
     "output_type": "execute_result"
    }
   ],
   "source": [
    "df.dtypes"
   ]
  },
  {
   "cell_type": "code",
   "execution_count": 9,
   "id": "abaff3c1",
   "metadata": {
    "ExecuteTime": {
     "end_time": "2022-02-16T14:45:22.653727Z",
     "start_time": "2022-02-16T14:45:22.640718Z"
    }
   },
   "outputs": [],
   "source": [
    "df = df.drop(columns=['RowNumber','Surname','CustomerId'])"
   ]
  },
  {
   "cell_type": "code",
   "execution_count": 10,
   "id": "d6112bdf",
   "metadata": {
    "ExecuteTime": {
     "end_time": "2022-02-16T14:45:22.668711Z",
     "start_time": "2022-02-16T14:45:22.655715Z"
    }
   },
   "outputs": [
    {
     "data": {
      "text/plain": [
       "(10000, 4)"
      ]
     },
     "execution_count": 10,
     "metadata": {},
     "output_type": "execute_result"
    }
   ],
   "source": [
    "categorical = df.select_dtypes(include=['object'])\n",
    "categorical.shape"
   ]
  },
  {
   "cell_type": "code",
   "execution_count": 11,
   "id": "7a5dbd7e",
   "metadata": {
    "ExecuteTime": {
     "end_time": "2022-02-16T14:45:22.683745Z",
     "start_time": "2022-02-16T14:45:22.670722Z"
    }
   },
   "outputs": [],
   "source": [
    "enc = OneHotEncoder(handle_unknown='ignore',drop='first')"
   ]
  },
  {
   "cell_type": "code",
   "execution_count": 12,
   "id": "f472081d",
   "metadata": {
    "ExecuteTime": {
     "end_time": "2022-02-16T14:45:22.715711Z",
     "start_time": "2022-02-16T14:45:22.689727Z"
    }
   },
   "outputs": [
    {
     "data": {
      "text/plain": [
       "(10000, 5)"
      ]
     },
     "execution_count": 12,
     "metadata": {},
     "output_type": "execute_result"
    }
   ],
   "source": [
    "feature_arr = enc.fit_transform(categorical).toarray()\n",
    "feature_labels = enc.get_feature_names_out()\n",
    "feature_labels = np.array(feature_labels).ravel()\n",
    "features = pd.DataFrame(feature_arr, columns=feature_labels)\n",
    "features.shape"
   ]
  },
  {
   "cell_type": "code",
   "execution_count": 13,
   "id": "8bfda79a",
   "metadata": {
    "ExecuteTime": {
     "end_time": "2022-02-16T14:45:22.731710Z",
     "start_time": "2022-02-16T14:45:22.717716Z"
    }
   },
   "outputs": [
    {
     "data": {
      "text/plain": [
       "(10000, 5)"
      ]
     },
     "execution_count": 13,
     "metadata": {},
     "output_type": "execute_result"
    }
   ],
   "source": [
    "numerical = df.select_dtypes(include=['int64'])\n",
    "numerical.shape"
   ]
  },
  {
   "cell_type": "code",
   "execution_count": 14,
   "id": "67e61b6f",
   "metadata": {
    "ExecuteTime": {
     "end_time": "2022-02-16T14:45:22.747733Z",
     "start_time": "2022-02-16T14:45:22.733712Z"
    }
   },
   "outputs": [
    {
     "data": {
      "text/plain": [
       "(10000, 10)"
      ]
     },
     "execution_count": 14,
     "metadata": {},
     "output_type": "execute_result"
    }
   ],
   "source": [
    "df1 = pd.concat([features, numerical], axis=1)\n",
    "df1.shape"
   ]
  },
  {
   "cell_type": "code",
   "execution_count": 15,
   "id": "69da6cfe",
   "metadata": {
    "ExecuteTime": {
     "end_time": "2022-02-16T14:45:22.859713Z",
     "start_time": "2022-02-16T14:45:22.750720Z"
    }
   },
   "outputs": [
    {
     "data": {
      "text/plain": [
       "<AxesSubplot:xlabel='Exited', ylabel='count'>"
      ]
     },
     "execution_count": 15,
     "metadata": {},
     "output_type": "execute_result"
    },
    {
     "data": {
      "image/png": "[encoded data removed]",
      "text/plain": [
       "<Figure size 432x288 with 1 Axes>"
      ]
     },
     "metadata": {
      "needs_background": "light"
     },
     "output_type": "display_data"
    }
   ],
   "source": [
    "sns.countplot(data=df1, x='Exited',linewidth=1)"
   ]
  },
  {
   "cell_type": "markdown",
   "id": "d2724ddb",
   "metadata": {},
   "source": [
    "# Sampling techniques\n",
    "From the above figure, it is clear that data is imbalanced. Here is a comparison of some sampling techniques to use. "
   ]
  },
  {
   "cell_type": "code",
   "execution_count": 16,
   "id": "647c96ed",
   "metadata": {
    "ExecuteTime": {
     "end_time": "2022-02-16T14:45:22.875728Z",
     "start_time": "2022-02-16T14:45:22.860713Z"
    }
   },
   "outputs": [],
   "source": [
    "X = df1.drop(columns='Exited')\n",
    "y = df1.Exited"
   ]
  },
  {
   "cell_type": "code",
   "execution_count": 17,
   "id": "b027f75a",
   "metadata": {
    "ExecuteTime": {
     "end_time": "2022-02-16T14:45:22.891718Z",
     "start_time": "2022-02-16T14:45:22.879723Z"
    },
    "scrolled": true
   },
   "outputs": [],
   "source": [
    "X_train, X_test, y_train, y_test = train_test_split(X, y, test_size = 0.2,random_state=42) "
   ]
  },
  {
   "cell_type": "code",
   "execution_count": 18,
   "id": "c5cfae17",
   "metadata": {
    "ExecuteTime": {
     "end_time": "2022-02-16T14:45:22.923733Z",
     "start_time": "2022-02-16T14:45:22.894717Z"
    }
   },
   "outputs": [],
   "source": [
    "scaler = MinMaxScaler()\n",
    "normalized_x_train = pd.DataFrame(scaler.fit_transform(X_train), columns = X_train.columns)\n",
    "normalized_x_test = pd.DataFrame(scaler.transform(X_test), columns = X_test.columns)"
   ]
  },
  {
   "cell_type": "code",
   "execution_count": 19,
   "id": "9c010537",
   "metadata": {
    "ExecuteTime": {
     "end_time": "2022-02-16T14:45:22.971029Z",
     "start_time": "2022-02-16T14:45:22.928730Z"
    }
   },
   "outputs": [],
   "source": [
    "LR = LogisticRegression()\n",
    "lr_fit = LR.fit(normalized_x_train, y_train) "
   ]
  },
  {
   "cell_type": "code",
   "execution_count": 20,
   "id": "ea1d2a0f",
   "metadata": {
    "ExecuteTime": {
     "end_time": "2022-02-16T14:45:23.017502Z",
     "start_time": "2022-02-16T14:45:22.976526Z"
    }
   },
   "outputs": [
    {
     "name": "stdout",
     "output_type": "stream",
     "text": [
      "train accuracy: 72.34%\n",
      "test accuracy: 81.80%\n",
      "precision: 61.07%\n",
      "recall: 20.36%\n",
      "f1 score: 30.53%\n",
      "[[1556   51]\n",
      " [ 313   80]]\n"
     ]
    }
   ],
   "source": [
    "prediction = lr_fit.predict(normalized_x_test) #Making predictions to test the model on test data\n",
    "scores = lr_fit.score(normalized_x_test, y_test)\n",
    "lr_train_accuracy = LR.score(X_train, y_train)*100\n",
    "lr_test_accuracy = scores*100\n",
    "lr_precision = precision_score(y_test, prediction)*100\n",
    "lr_recall = recall_score(y_test, prediction)*100\n",
    "lr_f1 = f1_score(y_test, prediction)*100\n",
    "cf = confusion_matrix(y_test, prediction)\n",
    "print(\"train accuracy: %.2f%%\" % (np.mean(lr_train_accuracy)))\n",
    "print(\"test accuracy: %.2f%%\" % (np.mean(lr_test_accuracy)))\n",
    "print(\"precision: %.2f%%\" % (np.mean(lr_precision)))\n",
    "print(\"recall: %.2f%%\" % (np.mean(lr_recall)))\n",
    "print(\"f1 score: %.2f%%\" % (np.mean(lr_f1)))\n",
    "print(cf)"
   ]
  },
  {
   "cell_type": "code",
   "execution_count": 21,
   "id": "36af122a",
   "metadata": {
    "ExecuteTime": {
     "end_time": "2022-02-16T14:45:23.032502Z",
     "start_time": "2022-02-16T14:45:23.019504Z"
    }
   },
   "outputs": [],
   "source": [
    "ros = RandomOverSampler(random_state=777)\n",
    "smote = SMOTE(random_state=777,k_neighbors=5)\n",
    "smoteenn = SMOTEENN(random_state=777)\n",
    "smotetomek = SMOTETomek(random_state=777)\n",
    "\n",
    "sampling=[ros, smote, smoteenn, smotetomek]"
   ]
  },
  {
   "cell_type": "code",
   "execution_count": 22,
   "id": "8ebcaf4c",
   "metadata": {
    "ExecuteTime": {
     "end_time": "2022-02-16T14:45:23.487260Z",
     "start_time": "2022-02-16T14:45:23.034507Z"
    }
   },
   "outputs": [],
   "source": [
    "train_accuracy = [lr_train_accuracy]\n",
    "test_accuracy = [lr_test_accuracy]\n",
    "precision = [lr_precision]\n",
    "recall = [lr_recall]\n",
    "f1 = [lr_f1]\n",
    "cf_matrix = [cf]\n",
    "\n",
    "for s in sampling:\n",
    "    s_X, s_y = s.fit_resample(X,y)\n",
    "    s_X_train, s_X_test, s_y_train, s_y_test = train_test_split(s_X, s_y, test_size=0.3, random_state=42)\n",
    "    s_X_train_scaled = pd.DataFrame(scaler.fit_transform(s_X_train),columns=s_X_train.columns)\n",
    "    s_X_test_scaled = pd.DataFrame(scaler.transform(s_X_test),columns=s_X_test.columns)\n",
    "    model_fit = LR.fit(s_X_train_scaled,s_y_train)\n",
    "    \n",
    "    prediction = model_fit.predict(s_X_test_scaled)\n",
    "    scores = model_fit.score(s_X_test_scaled, s_y_test)\n",
    "    train_accuracy_score = model_fit.score(s_X_train_scaled, s_y_train)\n",
    "    cf = confusion_matrix(s_y_test, prediction)\n",
    "    \n",
    "    train_accuracy.append(train_accuracy_score*100)\n",
    "    test_accuracy.append(scores * 100)\n",
    "    precision.append(precision_score(s_y_test, prediction)*100)\n",
    "    recall.append(recall_score(s_y_test, prediction)*100)\n",
    "    f1.append(f1_score(s_y_test, prediction)*100)\n",
    "    cf_matrix.append(cf)"
   ]
  },
  {
   "cell_type": "code",
   "execution_count": 23,
   "id": "0e5c26c8",
   "metadata": {
    "ExecuteTime": {
     "end_time": "2022-02-16T14:45:23.518238Z",
     "start_time": "2022-02-16T14:45:23.491064Z"
    }
   },
   "outputs": [
    {
     "data": {
      "text/html": [
       "<div>\n",
       "<style scoped>\n",
       "    .dataframe tbody tr th:only-of-type {\n",
       "        vertical-align: middle;\n",
       "    }\n",
       "\n",
       "    .dataframe tbody tr th {\n",
       "        vertical-align: top;\n",
       "    }\n",
       "\n",
       "    .dataframe thead th {\n",
       "        text-align: right;\n",
       "    }\n",
       "</style>\n",
       "<table border=\"1\" class=\"dataframe\">\n",
       "  <thead>\n",
       "    <tr style=\"text-align: right;\">\n",
       "      <th></th>\n",
       "      <th>original</th>\n",
       "      <th>ros</th>\n",
       "      <th>smote</th>\n",
       "      <th>smoteenn</th>\n",
       "      <th>smotetomek</th>\n",
       "    </tr>\n",
       "  </thead>\n",
       "  <tbody>\n",
       "    <tr>\n",
       "      <th>train_acc</th>\n",
       "      <td>72.337500</td>\n",
       "      <td>70.658414</td>\n",
       "      <td>73.232867</td>\n",
       "      <td>80.214849</td>\n",
       "      <td>73.157508</td>\n",
       "    </tr>\n",
       "    <tr>\n",
       "      <th>test_acc</th>\n",
       "      <td>81.800000</td>\n",
       "      <td>70.217664</td>\n",
       "      <td>72.101298</td>\n",
       "      <td>80.145893</td>\n",
       "      <td>72.855918</td>\n",
       "    </tr>\n",
       "    <tr>\n",
       "      <th>precision</th>\n",
       "      <td>61.068702</td>\n",
       "      <td>69.590890</td>\n",
       "      <td>71.309076</td>\n",
       "      <td>82.239186</td>\n",
       "      <td>72.533106</td>\n",
       "    </tr>\n",
       "    <tr>\n",
       "      <th>recall</th>\n",
       "      <td>20.356234</td>\n",
       "      <td>70.153061</td>\n",
       "      <td>72.491497</td>\n",
       "      <td>85.367142</td>\n",
       "      <td>73.158121</td>\n",
       "    </tr>\n",
       "    <tr>\n",
       "      <th>f1</th>\n",
       "      <td>30.534351</td>\n",
       "      <td>69.870845</td>\n",
       "      <td>71.895425</td>\n",
       "      <td>83.773976</td>\n",
       "      <td>72.844273</td>\n",
       "    </tr>\n",
       "  </tbody>\n",
       "</table>\n",
       "</div>"
      ],
      "text/plain": [
       "            original        ros      smote   smoteenn  smotetomek\n",
       "train_acc  72.337500  70.658414  73.232867  80.214849   73.157508\n",
       "test_acc   81.800000  70.217664  72.101298  80.145893   72.855918\n",
       "precision  61.068702  69.590890  71.309076  82.239186   72.533106\n",
       "recall     20.356234  70.153061  72.491497  85.367142   73.158121\n",
       "f1         30.534351  69.870845  71.895425  83.773976   72.844273"
      ]
     },
     "execution_count": 23,
     "metadata": {},
     "output_type": "execute_result"
    }
   ],
   "source": [
    "sampling_list=['original','ros', 'smote', 'smoteenn', 'smotetomek']\n",
    "\n",
    "sampling_metrics = pd.DataFrame(\n",
    "    {'train_acc': train_accuracy,\n",
    "     'test_acc': test_accuracy,\n",
    "     'precision': precision,\n",
    "     'recall': recall,\n",
    "     'f1': f1\n",
    "    },index=sampling_list).transpose()\n",
    "\n",
    "sampling_metrics"
   ]
  },
  {
   "cell_type": "markdown",
   "id": "8719e69a",
   "metadata": {},
   "source": [
    "From the above table, sampling using smote ENN had superior results in all metrics compared to other sampling techniques"
   ]
  },
  {
   "cell_type": "code",
   "execution_count": 24,
   "id": "f7ca4c32",
   "metadata": {
    "ExecuteTime": {
     "end_time": "2022-02-16T14:45:24.135099Z",
     "start_time": "2022-02-16T14:45:23.520052Z"
    },
    "scrolled": false
   },
   "outputs": [
    {
     "data": {
      "image/png": "[encoded data removed]",
      "text/plain": [
       "<Figure size 432x288 with 2 Axes>"
      ]
     },
     "metadata": {
      "needs_background": "light"
     },
     "output_type": "display_data"
    },
    {
     "data": {
      "image/png": "[encoded data removed]",
      "text/plain": [
       "<Figure size 432x288 with 2 Axes>"
      ]
     },
     "metadata": {
      "needs_background": "light"
     },
     "output_type": "display_data"
    },
    {
     "data": {
      "image/png": "[encoded data removed]",
      "text/plain": [
       "<Figure size 432x288 with 2 Axes>"
      ]
     },
     "metadata": {
      "needs_background": "light"
     },
     "output_type": "display_data"
    },
    {
     "data": {
      "image/png": "[encoded data removed]",
      "text/plain": [
       "<Figure size 432x288 with 2 Axes>"
      ]
     },
     "metadata": {
      "needs_background": "light"
     },
     "output_type": "display_data"
    },
    {
     "data": {
      "image/png": "[encoded data removed]",
      "text/plain": [
       "<Figure size 432x288 with 2 Axes>"
      ]
     },
     "metadata": {
      "needs_background": "light"
     },
     "output_type": "display_data"
    }
   ],
   "source": [
    "import seaborn as sns\n",
    "import matplotlib.pyplot as plt\n",
    "\n",
    "for c,s in zip(cf_matrix,sampling_list):\n",
    "    ax = sns.heatmap(c,fmt=\"d\", annot=True, cmap='Blues')\n",
    "    ax.set_title(s);\n",
    "    ax.set_xlabel('\\nPredicted')\n",
    "    ax.set_ylabel('Actual ')\n",
    "    ax.xaxis.set_ticklabels(['Active', 'Exited'])\n",
    "    ax.yaxis.set_ticklabels(['Active', 'Exited'])\n",
    "    plt.show()"
   ]
  },
  {
   "cell_type": "markdown",
   "id": "0c749e60",
   "metadata": {},
   "source": [
    "# Comparison of classifiers\n",
    "Using the data generated from smote enn, we try to compare the performance of the 7 classifiers below"
   ]
  },
  {
   "cell_type": "code",
   "execution_count": 25,
   "id": "0b6cab5b",
   "metadata": {
    "ExecuteTime": {
     "end_time": "2022-02-16T14:45:24.276418Z",
     "start_time": "2022-02-16T14:45:24.137100Z"
    }
   },
   "outputs": [],
   "source": [
    "s_X, s_y = smoteenn.fit_resample(X,y)\n",
    "s_X_scaled = pd.DataFrame(scaler.fit_transform(s_X),columns=s_X.columns)"
   ]
  },
  {
   "cell_type": "code",
   "execution_count": 27,
   "id": "0926af4b",
   "metadata": {
    "ExecuteTime": {
     "end_time": "2022-02-16T14:47:02.853124Z",
     "start_time": "2022-02-16T14:45:35.472361Z"
    },
    "scrolled": false
   },
   "outputs": [],
   "source": [
    "models = [\n",
    "    RandomForestClassifier(n_estimators=200, max_depth=3, random_state=0),\n",
    "    LinearSVC(),\n",
    "    MultinomialNB(),\n",
    "    LogisticRegression(random_state=0),\n",
    "    SGDClassifier(alpha=0.0001, max_iter=200),\n",
    "    GradientBoostingClassifier(n_estimators=100, learning_rate=.1, random_state=0),\n",
    "    XGBClassifier(learning_rate=0.1, n_estimators=1000, max_depth=5, nthread=4, seed=0, verbosity = 0,use_label_encoder=False)\n",
    "]\n",
    "\n",
    "CV = 5\n",
    "cv_df = pd.DataFrame(index=range(CV * len(models)))\n",
    "entries = []\n",
    "\n",
    "for model in models:\n",
    "    model_name = model.__class__.__name__\n",
    "    accuracies = cross_val_score(model, s_X_scaled, s_y, scoring='accuracy', cv=CV)\n",
    "    precisions = cross_val_score(model, s_X_scaled, s_y, scoring='precision', cv=CV)  \n",
    "    recalls = cross_val_score(model, s_X_scaled, s_y, scoring='recall', cv=CV)  \n",
    "    f1s = cross_val_score(model, s_X_scaled, s_y, scoring='f1', cv=CV)  \n",
    "\n",
    "    for fold_idx, (accuracy, precision, recall, f1) in enumerate(zip(accuracies, precisions, recalls, f1s)):\n",
    "        entries.append((model_name, fold_idx, accuracy, precision, recall, f1))\n",
    "\n",
    "cv_df = pd.DataFrame(entries, columns=['model_name', 'fold_idx', 'accuracy','precision', 'recall', 'f1'])"
   ]
  },
  {
   "cell_type": "code",
   "execution_count": 28,
   "id": "465444c1",
   "metadata": {
    "ExecuteTime": {
     "end_time": "2022-02-16T14:47:03.763554Z",
     "start_time": "2022-02-16T14:47:02.853124Z"
    },
    "scrolled": false
   },
   "outputs": [
    {
     "data": {
      "image/png": "[encoded data removed]",
      "text/plain": [
       "<Figure size 1152x1152 with 4 Axes>"
      ]
     },
     "metadata": {
      "needs_background": "light"
     },
     "output_type": "display_data"
    }
   ],
   "source": [
    "cols = ['accuracy', 'precision', 'recall', 'f1']\n",
    "plt.figure(figsize=(16,16))\n",
    "\n",
    "for i, col in enumerate(cols):\n",
    "    plt.subplot(2,2,i+1)\n",
    "    sns.boxplot(data=cv_df, x='model_name', y=col)\n",
    "    sns.stripplot(data=cv_df, x='model_name', y=col, size=8, jitter=True, edgecolor='gray', linewidth=2)\n",
    "    plt.xticks(rotation=45)\n",
    "    plt.title(col)"
   ]
  },
  {
   "cell_type": "code",
   "execution_count": 29,
   "id": "59399b61",
   "metadata": {
    "ExecuteTime": {
     "end_time": "2022-02-16T14:47:03.794754Z",
     "start_time": "2022-02-16T14:47:03.765365Z"
    }
   },
   "outputs": [
    {
     "data": {
      "text/html": [
       "<div>\n",
       "<style scoped>\n",
       "    .dataframe tbody tr th:only-of-type {\n",
       "        vertical-align: middle;\n",
       "    }\n",
       "\n",
       "    .dataframe tbody tr th {\n",
       "        vertical-align: top;\n",
       "    }\n",
       "\n",
       "    .dataframe thead th {\n",
       "        text-align: right;\n",
       "    }\n",
       "</style>\n",
       "<table border=\"1\" class=\"dataframe\">\n",
       "  <thead>\n",
       "    <tr style=\"text-align: right;\">\n",
       "      <th>model_name</th>\n",
       "      <th>GradientBoostingClassifier</th>\n",
       "      <th>LinearSVC</th>\n",
       "      <th>LogisticRegression</th>\n",
       "      <th>MultinomialNB</th>\n",
       "      <th>RandomForestClassifier</th>\n",
       "      <th>SGDClassifier</th>\n",
       "      <th>XGBClassifier</th>\n",
       "    </tr>\n",
       "  </thead>\n",
       "  <tbody>\n",
       "    <tr>\n",
       "      <th>accuracy</th>\n",
       "      <td>0.912641</td>\n",
       "      <td>0.798995</td>\n",
       "      <td>0.799661</td>\n",
       "      <td>0.694683</td>\n",
       "      <td>0.871615</td>\n",
       "      <td>0.800612</td>\n",
       "      <td>0.926727</td>\n",
       "    </tr>\n",
       "    <tr>\n",
       "      <th>f1</th>\n",
       "      <td>0.920429</td>\n",
       "      <td>0.836234</td>\n",
       "      <td>0.837490</td>\n",
       "      <td>0.787791</td>\n",
       "      <td>0.892958</td>\n",
       "      <td>0.836652</td>\n",
       "      <td>0.932713</td>\n",
       "    </tr>\n",
       "    <tr>\n",
       "      <th>precision</th>\n",
       "      <td>0.953341</td>\n",
       "      <td>0.826424</td>\n",
       "      <td>0.824252</td>\n",
       "      <td>0.680835</td>\n",
       "      <td>0.894286</td>\n",
       "      <td>0.822966</td>\n",
       "      <td>0.960633</td>\n",
       "    </tr>\n",
       "    <tr>\n",
       "      <th>recall</th>\n",
       "      <td>0.901407</td>\n",
       "      <td>0.846528</td>\n",
       "      <td>0.851388</td>\n",
       "      <td>0.935258</td>\n",
       "      <td>0.894504</td>\n",
       "      <td>0.829281</td>\n",
       "      <td>0.918024</td>\n",
       "    </tr>\n",
       "  </tbody>\n",
       "</table>\n",
       "</div>"
      ],
      "text/plain": [
       "model_name  GradientBoostingClassifier  LinearSVC  LogisticRegression  \\\n",
       "accuracy                      0.912641   0.798995            0.799661   \n",
       "f1                            0.920429   0.836234            0.837490   \n",
       "precision                     0.953341   0.826424            0.824252   \n",
       "recall                        0.901407   0.846528            0.851388   \n",
       "\n",
       "model_name  MultinomialNB  RandomForestClassifier  SGDClassifier  \\\n",
       "accuracy         0.694683                0.871615       0.800612   \n",
       "f1               0.787791                0.892958       0.836652   \n",
       "precision        0.680835                0.894286       0.822966   \n",
       "recall           0.935258                0.894504       0.829281   \n",
       "\n",
       "model_name  XGBClassifier  \n",
       "accuracy         0.926727  \n",
       "f1               0.932713  \n",
       "precision        0.960633  \n",
       "recall           0.918024  "
      ]
     },
     "execution_count": 29,
     "metadata": {},
     "output_type": "execute_result"
    }
   ],
   "source": [
    "metric_summary = pd.pivot_table(cv_df, index=['model_name'],\n",
    "                    aggfunc={'accuracy': np.mean,\n",
    "                             'precision': np.mean,\n",
    "                             'recall': np.mean,\n",
    "                             'f1': np.mean}).transpose()\n",
    "metric_summary"
   ]
  },
  {
   "cell_type": "markdown",
   "id": "5b0d7d43",
   "metadata": {},
   "source": [
    "From the above table, XGB and GB performed better in all 4 metrics compared to other classifiers.\n",
    "\n",
    "Results can be improved by hypertuning parameters. Also, depending on the nature of the problem, one can either prioritize precision over recall and vice versa. For this problem, since we want to be able to predict customers who are likely to close their account, we want recall to be high (low false negatives, not predicting 'active' when customer has actually exited)"
   ]
  },
  {
   "cell_type": "code",
   "execution_count": null,
   "id": "dcab74cc",
   "metadata": {},
   "outputs": [],
   "source": []
  }
 ],
 "metadata": {
  "kernelspec": {
   "display_name": "Python 3 (ipykernel)",
   "language": "python",
   "name": "python3"
  },
  "language_info": {
   "codemirror_mode": {
    "name": "ipython",
    "version": 3
   },
   "file_extension": ".py",
   "mimetype": "text/x-python",
   "name": "python",
   "nbconvert_exporter": "python",
   "pygments_lexer": "ipython3",
   "version": "3.9.7"
  },
  "toc": {
   "base_numbering": 1,
   "nav_menu": {},
   "number_sections": true,
   "sideBar": true,
   "skip_h1_title": false,
   "title_cell": "Table of Contents",
   "title_sidebar": "Contents",
   "toc_cell": false,
   "toc_position": {},
   "toc_section_display": true,
   "toc_window_display": false
  }
 },
 "nbformat": 4,
 "nbformat_minor": 5
}
