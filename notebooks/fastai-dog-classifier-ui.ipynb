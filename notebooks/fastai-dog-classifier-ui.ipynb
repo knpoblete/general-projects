{
 "cells": [
  {
   "cell_type": "code",
   "execution_count": 1,
   "id": "3a59e5ca",
   "metadata": {
    "ExecuteTime": {
     "end_time": "2022-03-27T17:48:51.987360Z",
     "start_time": "2022-03-27T17:48:48.667391Z"
    }
   },
   "outputs": [
    {
     "name": "stderr",
     "output_type": "stream",
     "text": [
      "E:\\datascience-projects\\course20-master\\course20-master\\fastbook\\__init__.py:19: UserWarning: Missing `graphviz` - please run `conda install fastbook`\n",
      "  except ModuleNotFoundError: warn(\"Missing `graphviz` - please run `conda install fastbook`\")\n"
     ]
    }
   ],
   "source": [
    "import fastbook\n",
    "fastbook.setup_book()\n",
    "from fastbook import *\n",
    "from fastai.vision.widgets import *"
   ]
  },
  {
   "cell_type": "code",
   "execution_count": 2,
   "id": "672b6515",
   "metadata": {
    "ExecuteTime": {
     "end_time": "2022-03-27T17:48:52.003121Z",
     "start_time": "2022-03-27T17:48:51.989119Z"
    }
   },
   "outputs": [
    {
     "data": {
      "text/plain": [
       "(#1) [Path('export.pkl')]"
      ]
     },
     "execution_count": 2,
     "metadata": {},
     "output_type": "execute_result"
    }
   ],
   "source": [
    "path = Path()\n",
    "path.ls(file_exts='.pkl')"
   ]
  },
  {
   "cell_type": "code",
   "execution_count": 3,
   "id": "28bfeecf",
   "metadata": {
    "ExecuteTime": {
     "end_time": "2022-03-27T17:48:52.051113Z",
     "start_time": "2022-03-27T17:48:52.007116Z"
    }
   },
   "outputs": [],
   "source": [
    "learn_inf = load_learner(path/'export.pkl')"
   ]
  },
  {
   "cell_type": "code",
   "execution_count": 4,
   "id": "74c4f966",
   "metadata": {
    "ExecuteTime": {
     "end_time": "2022-03-27T17:48:52.067115Z",
     "start_time": "2022-03-27T17:48:52.053116Z"
    }
   },
   "outputs": [
    {
     "data": {
      "text/plain": [
       "['golden_retriever', 'samoyed', 'siberian_husky']"
      ]
     },
     "execution_count": 4,
     "metadata": {},
     "output_type": "execute_result"
    }
   ],
   "source": [
    "learn_inf.dls.vocab"
   ]
  },
  {
   "cell_type": "code",
   "execution_count": 5,
   "id": "8e91cdb1",
   "metadata": {
    "ExecuteTime": {
     "end_time": "2022-03-27T17:48:52.083118Z",
     "start_time": "2022-03-27T17:48:52.070119Z"
    }
   },
   "outputs": [
    {
     "data": {
      "application/vnd.jupyter.widget-view+json": {
       "model_id": "f315b5089a1a4b43afe25765abfa9d18",
       "version_major": 2,
       "version_minor": 0
      },
      "text/plain": [
       "FileUpload(value={}, description='Upload')"
      ]
     },
     "metadata": {},
     "output_type": "display_data"
    }
   ],
   "source": [
    "#hide_output\n",
    "btn_upload = widgets.FileUpload()\n",
    "btn_upload"
   ]
  },
  {
   "cell_type": "code",
   "execution_count": 6,
   "id": "2794ff85",
   "metadata": {
    "ExecuteTime": {
     "end_time": "2022-03-27T17:48:52.115126Z",
     "start_time": "2022-03-27T17:48:52.085117Z"
    }
   },
   "outputs": [
    {
     "data": {
      "application/vnd.jupyter.widget-view+json": {
       "model_id": "a7038747b40849aa89291033a942b19b",
       "version_major": 2,
       "version_minor": 0
      },
      "text/plain": [
       "Output()"
      ]
     },
     "metadata": {},
     "output_type": "display_data"
    }
   ],
   "source": [
    "#hide_output\n",
    "out_pl = widgets.Output()\n",
    "out_pl.clear_output()\n",
    "#with out_pl: display(img.to_thumb(128,128))\n",
    "out_pl"
   ]
  },
  {
   "cell_type": "code",
   "execution_count": 7,
   "id": "7e7b2909",
   "metadata": {
    "ExecuteTime": {
     "end_time": "2022-03-27T17:48:52.131113Z",
     "start_time": "2022-03-27T17:48:52.118116Z"
    }
   },
   "outputs": [],
   "source": [
    "lbl_pred = widgets.Label()\n",
    "#lbl_pred.value = f'Prediction: {pred}; Probability: {probs[pred_idx]:.04f}'\n",
    "#lbl_pred"
   ]
  },
  {
   "cell_type": "code",
   "execution_count": 8,
   "id": "98cd9a6a",
   "metadata": {
    "ExecuteTime": {
     "end_time": "2022-03-27T17:48:52.146648Z",
     "start_time": "2022-03-27T17:48:52.134656Z"
    }
   },
   "outputs": [
    {
     "data": {
      "application/vnd.jupyter.widget-view+json": {
       "model_id": "4b6e7991ac5b4877b7d12a2b160f6117",
       "version_major": 2,
       "version_minor": 0
      },
      "text/plain": [
       "Button(description='Classify', style=ButtonStyle())"
      ]
     },
     "metadata": {},
     "output_type": "display_data"
    }
   ],
   "source": [
    "#hide_output\n",
    "btn_run = widgets.Button(description='Classify')\n",
    "btn_run"
   ]
  },
  {
   "cell_type": "code",
   "execution_count": 9,
   "id": "2df4f7a3",
   "metadata": {
    "ExecuteTime": {
     "end_time": "2022-03-27T17:48:52.162737Z",
     "start_time": "2022-03-27T17:48:52.148649Z"
    }
   },
   "outputs": [],
   "source": [
    "def on_click_classify(change):\n",
    "    img = PILImage.create(btn_upload.data[-1])\n",
    "    out_pl.clear_output()\n",
    "    with out_pl: display(img.to_thumb(128,128))\n",
    "    pred,pred_idx,probs = learn_inf.predict(img)\n",
    "    lbl_pred.value = f'Prediction: {pred}; Probability: {probs[pred_idx]:.04f}'\n",
    "\n",
    "btn_run.on_click(on_click_classify)"
   ]
  },
  {
   "cell_type": "code",
   "execution_count": 10,
   "id": "1eb0ab3e",
   "metadata": {
    "ExecuteTime": {
     "end_time": "2022-03-27T17:48:52.178749Z",
     "start_time": "2022-03-27T17:48:52.165037Z"
    }
   },
   "outputs": [],
   "source": [
    "#hide\n",
    "#Putting back btn_upload to a widget for next cell\n",
    "btn_upload = widgets.FileUpload()"
   ]
  },
  {
   "cell_type": "code",
   "execution_count": 11,
   "id": "a1343cd1",
   "metadata": {
    "ExecuteTime": {
     "end_time": "2022-03-27T17:48:52.210749Z",
     "start_time": "2022-03-27T17:48:52.180749Z"
    }
   },
   "outputs": [
    {
     "data": {
      "application/vnd.jupyter.widget-view+json": {
       "model_id": "05d4d04409944519a4221dd8e94e3cab",
       "version_major": 2,
       "version_minor": 0
      },
      "text/plain": [
       "VBox(children=(Label(value='Select your dog!'), FileUpload(value={}, description='Upload'), Button(description…"
      ]
     },
     "metadata": {},
     "output_type": "display_data"
    }
   ],
   "source": [
    "#hide_output\n",
    "\n",
    "from fastai.vision.widgets import *\n",
    "\n",
    "VBox([widgets.Label('Select your dog!'), \n",
    "      btn_upload, btn_run, out_pl, lbl_pred])"
   ]
  },
  {
   "cell_type": "code",
   "execution_count": null,
   "id": "7423dfcc",
   "metadata": {},
   "outputs": [],
   "source": []
  }
 ],
 "metadata": {
  "kernelspec": {
   "display_name": "Python 3 (ipykernel)",
   "language": "python",
   "name": "python3"
  },
  "language_info": {
   "codemirror_mode": {
    "name": "ipython",
    "version": 3
   },
   "file_extension": ".py",
   "mimetype": "text/x-python",
   "name": "python",
   "nbconvert_exporter": "python",
   "pygments_lexer": "ipython3",
   "version": "3.9.7"
  }
 },
 "nbformat": 4,
 "nbformat_minor": 5
}
